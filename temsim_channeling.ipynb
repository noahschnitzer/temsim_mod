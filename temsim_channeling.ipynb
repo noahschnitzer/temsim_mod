{
 "cells": [
  {
   "cell_type": "code",
   "execution_count": 1,
   "metadata": {},
   "outputs": [],
   "source": [
    "from tifffile import imread,imwrite\n",
    "\n",
    "import numpy as np\n",
    "\n",
    "import matplotlib.pyplot as plt\n",
    "\n",
    "from os import listdir\n",
    "\n",
    "\n",
    "%matplotlib widget"
   ]
  },
  {
   "cell_type": "code",
   "execution_count": 2,
   "metadata": {},
   "outputs": [],
   "source": [
    "ffolder = '/Users/noahschnitzer/Documents/kem/tools/temsim/20210404/temsim/out/'\n",
    "\n",
    "fprefix = 'si_test3.tif'\n",
    "\n",
    "n_z = 200\n",
    "\n",
    "rlist = list(range(n_z))\n",
    "ilist = list(range(n_z))\n",
    "\n",
    "for fname in listdir(ffolder):\n",
    "    fsplit = fname.split('__')\n",
    "    #print(fsplit)\n",
    "    if len(fsplit) ==4:\n",
    "        #print(fsplit[1]+\" \"+fsplit[2])\n",
    "        #rlist.append(int(fsplit[1]))\n",
    "        \n",
    "        im = imread(ffolder+fname,series=1)\n",
    "        if int(fsplit[2]) == 0:\n",
    "            rlist[int(fsplit[1])] = im\n",
    "        else:\n",
    "            ilist[int(fsplit[1])] = im\n",
    "        \n",
    "        #print(im.shape)\n",
    "rlist = np.array(rlist)\n",
    "ilist = np.array(ilist)\n",
    "complex_probes_k = rlist + 1j * ilist\n",
    "complex_probes_r = np.fft.fft2(complex_probes_k) #last two axes by default...\n",
    "complex_probes_r = np.abs(complex_probes_r)**2\n",
    "complex_probes_r = complex_probes_r - complex_probes_r.min()\n",
    "complex_probes_r = complex_probes_r / complex_probes_r.max()"
   ]
  },
  {
   "cell_type": "code",
   "execution_count": 3,
   "metadata": {},
   "outputs": [
    {
     "data": {
      "text/plain": [
       "(200, 684, 684)"
      ]
     },
     "execution_count": 3,
     "metadata": {},
     "output_type": "execute_result"
    }
   ],
   "source": [
    "complex_probes_r.shape"
   ]
  },
  {
   "cell_type": "code",
   "execution_count": 4,
   "metadata": {},
   "outputs": [
    {
     "data": {
      "application/vnd.jupyter.widget-view+json": {
       "model_id": "0914a90266a048239e235340e50f3011",
       "version_major": 2,
       "version_minor": 0
      },
      "text/plain": [
       "Canvas(toolbar=Toolbar(toolitems=[('Home', 'Reset original view', 'home', 'home'), ('Back', 'Back to previous …"
      ]
     },
     "metadata": {},
     "output_type": "display_data"
    },
    {
     "data": {
      "text/plain": [
       "<matplotlib.image.AxesImage at 0x7f89efe96550>"
      ]
     },
     "execution_count": 4,
     "metadata": {},
     "output_type": "execute_result"
    }
   ],
   "source": [
    "fig,ax = plt.subplots(1,2,sharex = True, sharey = True)\n",
    "ax[0].matshow(complex_probes_r[0,:,:],cmap='magma')\n",
    "ax[1].matshow(complex_probes_r[185,:,:],cmap='magma')"
   ]
  },
  {
   "cell_type": "code",
   "execution_count": 5,
   "metadata": {},
   "outputs": [],
   "source": [
    "a = 65.28\n",
    "dk = 1/a\n",
    "px_to_ang = 65.28 / complex_probes_r.shape[1]"
   ]
  },
  {
   "cell_type": "code",
   "execution_count": 6,
   "metadata": {},
   "outputs": [
    {
     "data": {
      "text/plain": [
       "0.09543859649122807"
      ]
     },
     "execution_count": 6,
     "metadata": {},
     "output_type": "execute_result"
    }
   ],
   "source": [
    "px_to_ang"
   ]
  },
  {
   "cell_type": "code",
   "execution_count": 7,
   "metadata": {},
   "outputs": [
    {
     "name": "stdout",
     "output_type": "stream",
     "text": [
      "Full width (Å)= 4.771929824561403\n"
     ]
    },
    {
     "data": {
      "application/vnd.jupyter.widget-view+json": {
       "model_id": "25a734a83b754246893a1a31bc84e248",
       "version_major": 2,
       "version_minor": 0
      },
      "text/plain": [
       "Canvas(toolbar=Toolbar(toolitems=[('Home', 'Reset original view', 'home', 'home'), ('Back', 'Back to previous …"
      ]
     },
     "metadata": {},
     "output_type": "display_data"
    },
    {
     "data": {
      "text/plain": [
       "<matplotlib.image.AxesImage at 0x7f8a484b71d0>"
      ]
     },
     "execution_count": 7,
     "metadata": {},
     "output_type": "execute_result"
    }
   ],
   "source": [
    "pshape = complex_probes_r.shape\n",
    "\n",
    "rdim = 50\n",
    "print('Full width (Å)= ' + str(rdim*px_to_ang))\n",
    "\n",
    "fig,ax = plt.subplots(1,2)\n",
    "ax[0].matshow(complex_probes_r[:,int(np.floor(pshape[1]/2)), int(np.floor(pshape[1]/2))-rdim:int(np.floor(pshape[1]/2))+rdim],cmap='magma')\n",
    "ax[1].matshow(complex_probes_r[:,int(np.floor(pshape[1]/2))-rdim:int(np.floor(pshape[1]/2))+rdim,int(np.floor(pshape[1]/2))],cmap='magma')"
   ]
  },
  {
   "cell_type": "code",
   "execution_count": 8,
   "metadata": {},
   "outputs": [],
   "source": [
    "imwrite('channelling_21p2.tif',np.float32(complex_probes_r))"
   ]
  },
  {
   "cell_type": "code",
   "execution_count": 9,
   "metadata": {},
   "outputs": [],
   "source": [
    "mystr = \"\"\n",
    "for it in range(5,1000,5):\n",
    "    mystr = mystr + \" \"+str(it)"
   ]
  },
  {
   "cell_type": "code",
   "execution_count": null,
   "metadata": {},
   "outputs": [],
   "source": [
    "mystr"
   ]
  },
  {
   "cell_type": "code",
   "execution_count": null,
   "metadata": {},
   "outputs": [],
   "source": [
    "len(range(5,1000,5))"
   ]
  },
  {
   "cell_type": "code",
   "execution_count": null,
   "metadata": {},
   "outputs": [],
   "source": []
  }
 ],
 "metadata": {
  "kernelspec": {
   "display_name": "Python 3",
   "language": "python",
   "name": "python3"
  },
  "language_info": {
   "codemirror_mode": {
    "name": "ipython",
    "version": 3
   },
   "file_extension": ".py",
   "mimetype": "text/x-python",
   "name": "python",
   "nbconvert_exporter": "python",
   "pygments_lexer": "ipython3",
   "version": "3.7.7"
  }
 },
 "nbformat": 4,
 "nbformat_minor": 4
}
